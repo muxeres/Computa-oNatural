{
  "nbformat": 4,
  "nbformat_minor": 0,
  "metadata": {
    "colab": {
      "provenance": [],
      "authorship_tag": "ABX9TyPUQIXy6ouL4868jnjCbjIz",
      "include_colab_link": true
    },
    "kernelspec": {
      "name": "python3",
      "display_name": "Python 3"
    },
    "language_info": {
      "name": "python"
    }
  },
  "cells": [
    {
      "cell_type": "markdown",
      "metadata": {
        "id": "view-in-github",
        "colab_type": "text"
      },
      "source": [
        "<a href=\"https://colab.research.google.com/github/muxeres/Computa-oNatural/blob/master/Somativa2.ipynb\" target=\"_parent\"><img src=\"https://colab.research.google.com/assets/colab-badge.svg\" alt=\"Open In Colab\"/></a>"
      ]
    },
    {
      "cell_type": "code",
      "execution_count": null,
      "metadata": {
        "id": "iQqr-Jq6PnhM"
      },
      "outputs": [],
      "source": [
        "pip install geopandas cartopy matplotlib nunpy\n"
      ]
    },
    {
      "cell_type": "code",
      "source": [
        "import geopandas as gpd\n",
        "import matplotlib.pyplot as plt\n",
        "from shapely.geometry import Point\n",
        "import numpy as np\n",
        "from google.colab import files\n",
        "\n",
        "# Fazer upload da imagem\n",
        "uploaded = files.upload()\n",
        "\n",
        "# Obter o nome do arquivo carregado\n",
        "filename = list(uploaded.keys())[0]\n",
        "print(f\"Arquivo carregado: {filename}\")"
      ],
      "metadata": {
        "id": "BSt5HfzeUaBD"
      },
      "execution_count": null,
      "outputs": []
    },
    {
      "cell_type": "code",
      "source": [
        "\n",
        "\n",
        "# Dicionário das cidades com coordenadas (latitude e longitude)\n",
        "cidades = {\n",
        "    'Florianópolis': (-27.5954, -48.5480),\n",
        "    'Curitiba': (-25.4284, -49.2733),\n",
        "    'Joinville': (-26.3044, -48.8487),\n",
        "    'Blumenau': (-26.9194, -49.0661),\n",
        "    'Lages': (-27.8161, -50.3264),\n",
        "    'São Bento do Sul': (-26.2507, -49.3835),\n",
        "    'Palmeira': (-25.4258, -50.0072),\n",
        "    'Ponta Grossa': (-25.0916, -50.1669),\n",
        "    'Mafra': (-26.1124, -49.8047),\n",
        "    'Itajaí': (-26.9071, -48.6700)\n",
        "}\n",
        "\n"
      ],
      "metadata": {
        "id": "CnsaShBPSnND"
      },
      "execution_count": null,
      "outputs": []
    },
    {
      "cell_type": "markdown",
      "source": [],
      "metadata": {
        "id": "aL4d2_sGTLq4"
      }
    },
    {
      "cell_type": "code",
      "source": [
        "# Criando uma lista de pontos geográficos\n",
        "geometry = [Point(coord[1], coord[0]) for coord in cidades.values()]  # Lembre-se de que a ordem é (long, lat)\n",
        "\n",
        "# Criando um GeoDataFrame para as cidades\n",
        "gdf = gpd.GeoDataFrame(cidades.keys(), geometry=geometry, columns=['Cidade'])\n",
        "\n"
      ],
      "metadata": {
        "id": "k7zIQmu4TMAQ"
      },
      "execution_count": null,
      "outputs": []
    },
    {
      "cell_type": "code",
      "source": [
        "# Carregar o shapefile do Brasil (você pode usar um shapefile de um mapa mundial ou específico do Brasil)\n",
        "world = gpd.read_file(gpd.datasets.get_path('naturalearth_lowres'))\n",
        "\n",
        "# Filtrar apenas o Brasil\n",
        "brasil = world[world.name == \"Brazil\"]\n",
        "\n",
        "\n"
      ],
      "metadata": {
        "id": "3oegKvQWTQnU"
      },
      "execution_count": null,
      "outputs": []
    },
    {
      "cell_type": "code",
      "source": [
        "# Plotar o mapa do Brasil\n",
        "fig, ax = plt.subplots(figsize=(10, 10))\n",
        "brasil.plot(ax=ax, color='lightblue')\n",
        "\n",
        "# Plotar as cidades no mapa\n",
        "gdf.plot(ax=ax, color='red', marker='o', label='Cidades')\n",
        "\n"
      ],
      "metadata": {
        "id": "wDK65XZMTSUw"
      },
      "execution_count": null,
      "outputs": []
    },
    {
      "cell_type": "code",
      "source": [
        "# Adicionar nomes das cidades no mapa\n",
        "for x, y, label in zip(gdf.geometry.x, gdf.geometry.y, gdf['Cidade']):\n",
        "    plt.text(x, y, label, fontsize=12, color='black')\n",
        "\n",
        "# Exibir o mapa com as cidades marcadas\n",
        "plt.title('Mapa de Cidades: Florianópolis até Ponta Grossa')\n",
        "plt.xlabel('Longitude')\n",
        "plt.ylabel('Latitude')\n",
        "plt.show()"
      ],
      "metadata": {
        "id": "5xx6BzhlTVJH"
      },
      "execution_count": null,
      "outputs": []
    }
  ]
}