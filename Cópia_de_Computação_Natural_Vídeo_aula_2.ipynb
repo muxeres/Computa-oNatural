{
  "nbformat": 4,
  "nbformat_minor": 0,
  "metadata": {
    "colab": {
      "provenance": [],
      "include_colab_link": true
    },
    "kernelspec": {
      "name": "python3",
      "display_name": "Python 3"
    },
    "language_info": {
      "name": "python"
    }
  },
  "cells": [
    {
      "cell_type": "markdown",
      "metadata": {
        "id": "view-in-github",
        "colab_type": "text"
      },
      "source": [
        "<a href=\"https://colab.research.google.com/github/muxeres/Computa-oNatural/blob/master/C%C3%B3pia_de_Computa%C3%A7%C3%A3o_Natural_V%C3%ADdeo_aula_2.ipynb\" target=\"_parent\"><img src=\"https://colab.research.google.com/assets/colab-badge.svg\" alt=\"Open In Colab\"/></a>"
      ]
    },
    {
      "cell_type": "markdown",
      "source": [
        "Credits to WIRSANKY et al (2020)\n",
        "\n",
        "WIRSANSKY, Eyal. Hands-on genetic algorithms with Python: applying genetic algorithms to solve real-world deep learning and artificial intelligence problems. Packt Publishing Ltd, 2020.\n",
        "\n",
        "Original code: https://github.com/PacktPublishing/Hands-On-Genetic-Algorithms-with-Python/blob/master/Chapter03/02-OneMax-short.py\n",
        "\n"
      ],
      "metadata": {
        "id": "Kx8ZO0ceHESM"
      }
    },
    {
      "cell_type": "code",
      "source": [
        "!pip install deap"
      ],
      "metadata": {
        "colab": {
          "base_uri": "https://localhost:8080/"
        },
        "id": "DcqMLPr3hjLO",
        "outputId": "0b1acd3e-4669-43e2-ffaa-79c55254d4a8"
      },
      "execution_count": null,
      "outputs": [
        {
          "output_type": "stream",
          "name": "stdout",
          "text": [
            "Collecting deap\n",
            "  Downloading deap-1.4.1-cp310-cp310-manylinux_2_5_x86_64.manylinux1_x86_64.manylinux_2_17_x86_64.manylinux2014_x86_64.whl.metadata (13 kB)\n",
            "Requirement already satisfied: numpy in /usr/local/lib/python3.10/dist-packages (from deap) (1.26.4)\n",
            "Downloading deap-1.4.1-cp310-cp310-manylinux_2_5_x86_64.manylinux1_x86_64.manylinux_2_17_x86_64.manylinux2014_x86_64.whl (135 kB)\n",
            "\u001b[2K   \u001b[90m━━━━━━━━━━━━━━━━━━━━━━━━━━━━━━━━━━━━━━━━\u001b[0m \u001b[32m135.4/135.4 kB\u001b[0m \u001b[31m1.3 MB/s\u001b[0m eta \u001b[36m0:00:00\u001b[0m\n",
            "\u001b[?25hInstalling collected packages: deap\n",
            "Successfully installed deap-1.4.1\n"
          ]
        }
      ]
    },
    {
      "cell_type": "code",
      "execution_count": null,
      "metadata": {
        "id": "FR-4Dqjcwgls"
      },
      "outputs": [],
      "source": [
        "from deap import base\n",
        "from deap import creator\n",
        "from deap import tools\n",
        "from deap import algorithms\n",
        "\n",
        "import random\n",
        "import numpy\n",
        "\n",
        "import matplotlib.pyplot as plt\n",
        "import seaborn as sns\n",
        "\n"
      ]
    },
    {
      "cell_type": "markdown",
      "source": [
        "## PARAMETROS DE ENTRADA"
      ],
      "metadata": {
        "id": "3_CskqS_kT-Y"
      }
    },
    {
      "cell_type": "code",
      "source": [],
      "metadata": {
        "id": "hLUi1FojiMMZ"
      },
      "execution_count": null,
      "outputs": []
    },
    {
      "cell_type": "code",
      "source": [
        "\n",
        "ONE_MAX_LENGTH = 100  # tamanho do vetor a ser otimizado (string com 100 caracteres)\n",
        "\n",
        "POPULATION_SIZE = 200 # tamanho da população\n",
        "P_CROSSOVER = 0.9  # probabilidade de um cruzamento\n",
        "P_MUTATION = 0.1   # probabilidade de uma mutação\n",
        "MAX_GENERATIONS = 50 # número máximo de gerações (quantidade de ciclos do algoritmo)\n",
        "\n",
        "RANDOM_SEED = 42 # para replicabilidade\n",
        "random.seed(RANDOM_SEED)"
      ],
      "metadata": {
        "id": "Ey5Tf9mPhfXm"
      },
      "execution_count": null,
      "outputs": []
    },
    {
      "cell_type": "markdown",
      "source": [
        "## FUNÇÕES\n",
        "\n",
        "https://deap.readthedocs.io/en/master/tutorials/basic/part1.html"
      ],
      "metadata": {
        "id": "mCKDXarkk0V0"
      }
    },
    {
      "cell_type": "markdown",
      "source": [
        "Vetor de 100 elementos com valores entre 0 e 1:\n",
        " [0, 1, 0, 1, ........., 1]"
      ],
      "metadata": {
        "id": "MuE8Vq1Sl2du"
      }
    },
    {
      "cell_type": "markdown",
      "source": [
        "## Fitness"
      ],
      "metadata": {
        "id": "2H_8dhouq-0p"
      }
    },
    {
      "cell_type": "code",
      "source": [
        "# define que teremos uma única função objetivo, maximizando o fitness\n",
        "\n",
        "\n",
        "creator.create(\"FitnessMax\", base.Fitness, weights=(1.0,))\n",
        "\n",
        "# exemplo de minimização do fitness\n",
        "# creator.create(\"FitnessMin\", base.Fitness, weights=(-1.0,))"
      ],
      "metadata": {
        "id": "f9eYREDipq8y"
      },
      "execution_count": null,
      "outputs": []
    },
    {
      "cell_type": "markdown",
      "source": [
        "### Indivíduos"
      ],
      "metadata": {
        "id": "pZ4FrZbLrCJq"
      }
    },
    {
      "cell_type": "code",
      "source": [
        "# o indivíduo é composto de uma lista, herdando do tipo de dado LISTA, tendo um atributo de fitness\n",
        "\n",
        "creator.create(\"Individual\", list, fitness = creator.FitnessMax)"
      ],
      "metadata": {
        "id": "xE6iqDClrBGg"
      },
      "execution_count": null,
      "outputs": []
    },
    {
      "cell_type": "code",
      "source": [
        "toolbox = base.Toolbox()\n",
        "\n",
        "# são criadas duas funções/comandos na toolbox \"zeroOrOne\" e \"individualCreator\"\n",
        "\n",
        "# operador que retorna 0 ou 1, é usado para criar a população\n",
        "toolbox.register(\"zeroOrOne\", random.randint, 0, 1) # random.randint(0,1)\n",
        "\n",
        "# operador que preenche os dados do indivíduo\n",
        "# initRepeat() - chama a função N vezes e retorna o resultado em um container do tipo container\n",
        "\n",
        "toolbox.register(\"individualCreator\", tools.initRepeat, creator.Individual, toolbox.zeroOrOne, ONE_MAX_LENGTH)"
      ],
      "metadata": {
        "id": "IwgoRNjtiq6R"
      },
      "execution_count": null,
      "outputs": []
    },
    {
      "cell_type": "code",
      "source": [
        "random.randint(0,1)"
      ],
      "metadata": {
        "colab": {
          "base_uri": "https://localhost:8080/"
        },
        "id": "3CvT89AToP-W",
        "outputId": "f4042091-f1f0-407a-c930-a33f14f85746"
      },
      "execution_count": null,
      "outputs": [
        {
          "output_type": "execute_result",
          "data": {
            "text/plain": [
              "0"
            ]
          },
          "metadata": {},
          "execution_count": 7
        }
      ]
    },
    {
      "cell_type": "markdown",
      "source": [
        "### População"
      ],
      "metadata": {
        "id": "k58fAzjStPyw"
      }
    },
    {
      "cell_type": "code",
      "source": [
        "# cria o operador da população para gerar a lista de individuos\n",
        "toolbox.register(\"populationCreator\", tools.initRepeat, list, toolbox.individualCreator)\n",
        "\n"
      ],
      "metadata": {
        "id": "rZXY03KbjiLE"
      },
      "execution_count": null,
      "outputs": []
    },
    {
      "cell_type": "code",
      "source": [
        "toolbox.populationCreator(n=2)"
      ],
      "metadata": {
        "colab": {
          "base_uri": "https://localhost:8080/"
        },
        "id": "A3QP5jVUmOqd",
        "outputId": "23e1845d-0718-40c7-f0fa-070a2db45f49"
      },
      "execution_count": null,
      "outputs": [
        {
          "output_type": "execute_result",
          "data": {
            "text/plain": [
              "[[0,\n",
              "  1,\n",
              "  0,\n",
              "  0,\n",
              "  0,\n",
              "  0,\n",
              "  0,\n",
              "  1,\n",
              "  0,\n",
              "  0,\n",
              "  0,\n",
              "  0,\n",
              "  0,\n",
              "  0,\n",
              "  0,\n",
              "  1,\n",
              "  0,\n",
              "  1,\n",
              "  1,\n",
              "  0,\n",
              "  0,\n",
              "  1,\n",
              "  1,\n",
              "  1,\n",
              "  0,\n",
              "  0,\n",
              "  1,\n",
              "  0,\n",
              "  0,\n",
              "  1,\n",
              "  0,\n",
              "  1,\n",
              "  1,\n",
              "  1,\n",
              "  0,\n",
              "  1,\n",
              "  0,\n",
              "  1,\n",
              "  0,\n",
              "  1,\n",
              "  1,\n",
              "  0,\n",
              "  0,\n",
              "  0,\n",
              "  0,\n",
              "  1,\n",
              "  0,\n",
              "  0,\n",
              "  0,\n",
              "  1,\n",
              "  1,\n",
              "  1,\n",
              "  1,\n",
              "  0,\n",
              "  1,\n",
              "  1,\n",
              "  0,\n",
              "  1,\n",
              "  0,\n",
              "  0,\n",
              "  0,\n",
              "  0,\n",
              "  1,\n",
              "  1,\n",
              "  1,\n",
              "  0,\n",
              "  1,\n",
              "  0,\n",
              "  0,\n",
              "  0,\n",
              "  1,\n",
              "  1,\n",
              "  1,\n",
              "  0,\n",
              "  0,\n",
              "  1,\n",
              "  0,\n",
              "  1,\n",
              "  1,\n",
              "  1,\n",
              "  0,\n",
              "  1,\n",
              "  0,\n",
              "  0,\n",
              "  1,\n",
              "  1,\n",
              "  1,\n",
              "  1,\n",
              "  0,\n",
              "  0,\n",
              "  1,\n",
              "  0,\n",
              "  0,\n",
              "  0,\n",
              "  0,\n",
              "  0,\n",
              "  1,\n",
              "  0,\n",
              "  1,\n",
              "  1],\n",
              " [1,\n",
              "  1,\n",
              "  0,\n",
              "  0,\n",
              "  1,\n",
              "  1,\n",
              "  0,\n",
              "  1,\n",
              "  1,\n",
              "  0,\n",
              "  1,\n",
              "  0,\n",
              "  1,\n",
              "  0,\n",
              "  0,\n",
              "  1,\n",
              "  0,\n",
              "  0,\n",
              "  1,\n",
              "  0,\n",
              "  0,\n",
              "  1,\n",
              "  1,\n",
              "  0,\n",
              "  0,\n",
              "  1,\n",
              "  1,\n",
              "  0,\n",
              "  0,\n",
              "  0,\n",
              "  0,\n",
              "  0,\n",
              "  1,\n",
              "  0,\n",
              "  0,\n",
              "  0,\n",
              "  1,\n",
              "  0,\n",
              "  1,\n",
              "  1,\n",
              "  0,\n",
              "  0,\n",
              "  1,\n",
              "  1,\n",
              "  1,\n",
              "  1,\n",
              "  1,\n",
              "  0,\n",
              "  0,\n",
              "  0,\n",
              "  0,\n",
              "  1,\n",
              "  0,\n",
              "  0,\n",
              "  0,\n",
              "  0,\n",
              "  0,\n",
              "  0,\n",
              "  0,\n",
              "  0,\n",
              "  0,\n",
              "  1,\n",
              "  0,\n",
              "  0,\n",
              "  1,\n",
              "  1,\n",
              "  0,\n",
              "  0,\n",
              "  1,\n",
              "  0,\n",
              "  1,\n",
              "  1,\n",
              "  0,\n",
              "  0,\n",
              "  0,\n",
              "  1,\n",
              "  1,\n",
              "  1,\n",
              "  1,\n",
              "  1,\n",
              "  0,\n",
              "  0,\n",
              "  0,\n",
              "  1,\n",
              "  1,\n",
              "  0,\n",
              "  0,\n",
              "  0,\n",
              "  0,\n",
              "  1,\n",
              "  0,\n",
              "  1,\n",
              "  0,\n",
              "  1,\n",
              "  1,\n",
              "  0,\n",
              "  0,\n",
              "  1,\n",
              "  0,\n",
              "  0]]"
            ]
          },
          "metadata": {},
          "execution_count": 9
        }
      ]
    },
    {
      "cell_type": "code",
      "source": [
        "len(toolbox.populationCreator(n=2))"
      ],
      "metadata": {
        "colab": {
          "base_uri": "https://localhost:8080/"
        },
        "id": "G0meyEfKtkiD",
        "outputId": "449b244a-9e89-4488-d8fd-a64d941cf27a"
      },
      "execution_count": null,
      "outputs": [
        {
          "output_type": "execute_result",
          "data": {
            "text/plain": [
              "2"
            ]
          },
          "metadata": {},
          "execution_count": 10
        }
      ]
    },
    {
      "cell_type": "code",
      "source": [
        "len(toolbox.populationCreator(n=2)[1])"
      ],
      "metadata": {
        "colab": {
          "base_uri": "https://localhost:8080/"
        },
        "id": "-dKYneKKtsvi",
        "outputId": "36820a9f-d943-459a-9461-3be15a188fd4"
      },
      "execution_count": null,
      "outputs": [
        {
          "output_type": "execute_result",
          "data": {
            "text/plain": [
              "100"
            ]
          },
          "metadata": {},
          "execution_count": 11
        }
      ]
    },
    {
      "cell_type": "markdown",
      "source": [
        "### Função de fitness"
      ],
      "metadata": {
        "id": "n-sMV7aKtxEu"
      }
    },
    {
      "cell_type": "code",
      "source": [
        "# soma todos os valores dos vetores (valor máximo da soma igual a 100)\n",
        "def oneMaxFitness(individual):\n",
        "    return sum(individual),"
      ],
      "metadata": {
        "id": "tm08o5dQt2Rz"
      },
      "execution_count": null,
      "outputs": []
    },
    {
      "cell_type": "code",
      "source": [
        "\n",
        "toolbox.register(\"evaluate\", oneMaxFitness) # indicando a operador para avaliação"
      ],
      "metadata": {
        "id": "VrxeQ6PFvjjR"
      },
      "execution_count": null,
      "outputs": []
    },
    {
      "cell_type": "markdown",
      "source": [
        "### Operadores Genéticos"
      ],
      "metadata": {
        "id": "IrIwyTAmuOm_"
      }
    },
    {
      "cell_type": "code",
      "source": [
        "# seleção por torneio com tamanho de 3 participantes\n",
        "toolbox.register(\"select\", tools.selTournament, tournsize=3)\n",
        "\n",
        "# cruzamento de ponto único\n",
        "toolbox.register(\"mate\", tools.cxOnePoint)\n",
        "\n",
        "# mutação por troca de bit, com a probabilidade de mudança de cada atributo sendo definida por indpd\n",
        "toolbox.register(\"mutate\", tools.mutFlipBit, indpb=1.0/ONE_MAX_LENGTH)\n",
        "\n",
        "# documentação: os nomes usuais para ferramentas evolucionárias são mate(), mutate(), evaluate() e select()\n"
      ],
      "metadata": {
        "id": "cE3nqTt0ik3Y"
      },
      "execution_count": null,
      "outputs": []
    },
    {
      "cell_type": "markdown",
      "source": [
        "## ALGORITMO"
      ],
      "metadata": {
        "id": "OPjGC5FU0d-g"
      }
    },
    {
      "cell_type": "code",
      "source": [
        "# cria uma população inicial (geração 0)\n",
        "population = toolbox.populationCreator(n=POPULATION_SIZE)\n",
        "\n",
        "# seleciona quais estatísticas necessitamos\n",
        "stats = tools.Statistics(lambda ind: ind.fitness.values)\n",
        "stats.register(\"max\", numpy.max)\n",
        "stats.register(\"avg\", numpy.mean)\n",
        "\n",
        "# roda o algoritmo genético\n",
        "population, logbook = algorithms.eaSimple(population, toolbox, cxpb= P_CROSSOVER, mutpb= P_MUTATION, ngen= MAX_GENERATIONS, stats= stats, verbose= True)\n"
      ],
      "metadata": {
        "colab": {
          "base_uri": "https://localhost:8080/"
        },
        "id": "v8BMCgowujB_",
        "outputId": "4c151872-c524-45be-a7bf-252920c72727"
      },
      "execution_count": null,
      "outputs": [
        {
          "output_type": "stream",
          "name": "stdout",
          "text": [
            "gen\tnevals\tmax\tavg   \n",
            "0  \t200   \t60 \t49.665\n",
            "1  \t178   \t65 \t53.615\n",
            "2  \t192   \t66 \t56.88 \n",
            "3  \t184   \t68 \t60    \n",
            "4  \t189   \t72 \t62.79 \n",
            "5  \t187   \t76 \t65.585\n",
            "6  \t188   \t76 \t67.965\n",
            "7  \t187   \t77 \t70.27 \n",
            "8  \t182   \t79 \t72.3  \n",
            "9  \t189   \t79 \t74.23 \n",
            "10 \t178   \t80 \t76.015\n",
            "11 \t181   \t82 \t77.455\n",
            "12 \t170   \t82 \t78.63 \n",
            "13 \t174   \t85 \t79.97 \n",
            "14 \t190   \t86 \t81.225\n",
            "15 \t177   \t87 \t82.445\n",
            "16 \t185   \t88 \t83.535\n",
            "17 \t173   \t88 \t84.685\n",
            "18 \t196   \t90 \t85.8  \n",
            "19 \t173   \t90 \t87.01 \n",
            "20 \t168   \t91 \t88.04 \n",
            "21 \t180   \t92 \t88.79 \n",
            "22 \t194   \t93 \t89.605\n",
            "23 \t178   \t93 \t90.35 \n",
            "24 \t170   \t94 \t91.27 \n",
            "25 \t192   \t95 \t91.915\n",
            "26 \t181   \t95 \t92.61 \n",
            "27 \t184   \t96 \t93.22 \n",
            "28 \t184   \t96 \t93.89 \n",
            "29 \t179   \t96 \t94.375\n",
            "30 \t183   \t96 \t94.79 \n",
            "31 \t180   \t96 \t95.055\n",
            "32 \t189   \t96 \t95.235\n",
            "33 \t177   \t97 \t95.61 \n",
            "34 \t188   \t98 \t95.91 \n",
            "35 \t169   \t98 \t96.365\n",
            "36 \t182   \t99 \t96.695\n",
            "37 \t183   \t99 \t97.23 \n",
            "38 \t182   \t99 \t97.67 \n",
            "39 \t192   \t99 \t98.05 \n",
            "40 \t173   \t99 \t98.345\n",
            "41 \t182   \t99 \t98.675\n",
            "42 \t176   \t99 \t98.855\n",
            "43 \t188   \t99 \t98.91 \n",
            "44 \t192   \t99 \t98.92 \n",
            "45 \t193   \t99 \t98.86 \n",
            "46 \t189   \t99 \t98.82 \n",
            "47 \t189   \t99 \t98.895\n",
            "48 \t190   \t99 \t98.875\n",
            "49 \t187   \t99 \t98.83 \n",
            "50 \t184   \t99 \t98.89 \n"
          ]
        }
      ]
    },
    {
      "cell_type": "markdown",
      "source": [
        "## ESTATÍSTICAS"
      ],
      "metadata": {
        "id": "-rb2PkP_zfhl"
      }
    },
    {
      "cell_type": "code",
      "source": [
        "# estatísticas\n",
        "maxFitnessValues, meanFitnessValues = logbook.select(\"max\", \"avg\")"
      ],
      "metadata": {
        "id": "USgBXYvrvTz7"
      },
      "execution_count": null,
      "outputs": []
    },
    {
      "cell_type": "code",
      "source": [
        "# gráfico:\n",
        "sns.set_style(\"whitegrid\")\n",
        "plt.plot(maxFitnessValues, color='red')\n",
        "plt.plot(meanFitnessValues, color='green')\n",
        "plt.xlabel('Geração')\n",
        "plt.ylabel('Valores de fitness')\n",
        "plt.show()"
      ],
      "metadata": {
        "colab": {
          "base_uri": "https://localhost:8080/",
          "height": 449
        },
        "id": "9Ja-DwXWzkBj",
        "outputId": "df3028a0-f4e6-479c-b0de-2be913ea0f91"
      },
      "execution_count": null,
      "outputs": [
        {
          "output_type": "display_data",
          "data": {
            "text/plain": [
              "<Figure size 640x480 with 1 Axes>"
            ],
            "image/png": "[encoded data removed]"
          },
          "metadata": {}
        }
      ]
    },
    {
      "cell_type": "code",
      "source": [],
      "metadata": {
        "id": "dl2a6w6M0loj"
      },
      "execution_count": null,
      "outputs": []
    }
  ]
}